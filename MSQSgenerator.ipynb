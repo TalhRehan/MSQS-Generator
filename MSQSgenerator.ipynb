{
 "cells": [
  {
   "cell_type": "code",
   "execution_count": 27,
   "id": "16b38b6f",
   "metadata": {},
   "outputs": [],
   "source": [
    "import spacy \n",
    "import random\n",
    "from collections import Counter"
   ]
  },
  {
   "cell_type": "code",
   "execution_count": 29,
   "id": "3a0f6eb4",
   "metadata": {},
   "outputs": [],
   "source": [
    "text = \"\"\"\n",
    "The Greek historian knew what he was talking about. The Nile River fed Egyptian civilization for hundreds of years. \n",
    "The Longest River the Nile is 4,160 miles long—the world’s longest river. It begins near the equator in Africa and \n",
    "flows north to the Mediterranean Sea. In the south the Nile churns with cataracts. A cataract is a waterfall. Near the \n",
    "sea the Nile branches into a delta. A delta is an area near a river’s mouth where the water deposits fine soil called silt. \n",
    "In the delta, the Nile divides into many streams. The river is called the upper Nile in the south and the lower Nile in the\n",
    "north. For centuries, heavy rains in Ethiopia caused the Nile to flood every summer. The floods deposited rich soil along the \n",
    "Nile’s shores. This soil was fertile, which means it was good for growing crops. Unlike the Tigris and Euphrates,\n",
    "the Nile River flooded at the same time every year, so farmers could predict when to plant their crops.\n",
    "\"\"\"\n",
    "num_questions = 5"
   ]
  },
  {
   "cell_type": "code",
   "execution_count": 33,
   "id": "90ddfe79",
   "metadata": {},
   "outputs": [],
   "source": [
    "nlp = spacy.load('en_core_web_sm')\n",
    "doc = nlp(text)"
   ]
  },
  {
   "cell_type": "code",
   "execution_count": 54,
   "id": "fda2fff5-98a1-4556-bed3-9729fa272f9f",
   "metadata": {},
   "outputs": [],
   "source": [
    "sentences = [sent.text for sent in doc.sents]"
   ]
  },
  {
   "cell_type": "code",
   "execution_count": 122,
   "id": "85858b3e-e0a1-4148-b019-788cf6c83275",
   "metadata": {},
   "outputs": [],
   "source": [
    "selected_sentences = random.sample(sentences,min(num_questions,len(sentences)))"
   ]
  },
  {
   "cell_type": "code",
   "execution_count": 120,
   "id": "2c029960-4698-4b90-8cbf-8d0308a40001",
   "metadata": {},
   "outputs": [
    {
     "name": "stdout",
     "output_type": "stream",
     "text": [
      "the _______ is called the upper nile in the south and the lower nile in the\n",
      "north.\n",
      "the longest _______ the nile is 4,160 miles long—the world’s longest _______.\n",
      "the nile river fed egyptian _______ for hundreds of years. \n",
      "\n",
      "in the _______ the nile churns with cataracts.\n"
     ]
    }
   ],
   "source": [
    "msqs = []\n",
    "for sentence in selected_sentences:\n",
    "    sentence = sentence.lower()\n",
    "    sent_doc = nlp(sentence)\n",
    "    nouns = [token.text for token in sent_doc if token.pos_==\"NOUN\"]\n",
    "    if len(nouns)<2:\n",
    "        continue\n",
    "    noun_count = Counter(nouns)\n",
    "    \n",
    "    if noun_count:\n",
    "        subject = noun_count.most_common(1)[0][0]\n",
    "        \n",
    "        question_stem = sentence.replace(subject,\"_______\")\n",
    "\n",
    "        for _ in range(3):\n",
    "            random.choice(list(set(noun) - set([subject])))\n",
    "        \n",
    "        \n",
    "        \n",
    "        \n",
    "    "
   ]
  },
  {
   "cell_type": "code",
   "execution_count": 256,
   "id": "b27e8cf1-6a6d-404c-9496-3d28b9f9a64a",
   "metadata": {},
   "outputs": [
    {
     "ename": "SyntaxError",
     "evalue": "'continue' not properly in loop (192006331.py, line 5)",
     "output_type": "error",
     "traceback": [
      "\u001b[1;36m  Cell \u001b[1;32mIn[256], line 5\u001b[1;36m\u001b[0m\n\u001b[1;33m    continue\u001b[0m\n\u001b[1;37m    ^\u001b[0m\n\u001b[1;31mSyntaxError\u001b[0m\u001b[1;31m:\u001b[0m 'continue' not properly in loop\n"
     ]
    }
   ],
   "source": [
    "def generate_msqs(text,num_questions=5):\n",
    "    doc = nlp(text)\n",
    "    sentences = [token.text for token in sent_doc if token.pos_=='NOUN']\n",
    "    if len(nouns)<2:\n",
    "        continue\n",
    "    \n",
    "    noun_counts = Counter(noun)\n",
    "    if noun_count:\n",
    "        subject = noun_counts.most_common(1)[0][0]\n",
    "        question_stem = sentence.replace(subject,\"________\")\n",
    "        answer_choices = [subject]\n",
    "        for _ in range(3):\n",
    "            distractor = random.choice(list(set(nouns)- set([subject])))\n",
    "            answer_choices.append(distractor)\n",
    "        random.shuffle(answer_choices)\n",
    "        correct_answer = chr(64 + answer_choices.index(sebject)+1)\n",
    "        msqs.append((question_stem,answer_choices,correct_answer))\n",
    "\n",
    "return msqs\n",
    "        \n",
    "\n"
   ]
  },
  {
   "cell_type": "code",
   "execution_count": 258,
   "id": "26455b38-cfbd-4cf9-8d24-43e5e5680e68",
   "metadata": {},
   "outputs": [
    {
     "name": "stdout",
     "output_type": "stream",
     "text": [
      "Q1: For _______, heavy rains in Ethiopia caused the Nile to flood every summer.\n",
      "A: rains\n",
      "B: centuries\n",
      "C: summer\n",
      "D: summer\n",
      "Correct Answer: B\n",
      "Q2: In the _______ the Nile churns with cataracts.\n",
      "A: cataracts\n",
      "B: cataracts\n",
      "C: south\n",
      "D: cataracts\n",
      "Correct Answer: C\n",
      "Q3: The Nile River fed Egyptian _______ for hundreds of years.\n",
      "A: civilization\n",
      "B: hundreds\n",
      "C: years\n",
      "D: years\n",
      "Correct Answer: A\n",
      "Q4: The _______ deposited rich soil along the Nile’s shores.\n",
      "A: soil\n",
      "B: soil\n",
      "C: soil\n",
      "D: floods\n",
      "Correct Answer: D\n",
      "Q5: A _______ is an area near a river’s mouth where the water deposits fine soil called silt.\n",
      "A: water\n",
      "B: area\n",
      "C: delta\n",
      "D: mouth\n",
      "Correct Answer: C\n",
      "Q6: Near the _______ the Nile branches into a delta.\n",
      "A: branches\n",
      "B: branches\n",
      "C: sea\n",
      "D: branches\n",
      "Correct Answer: C\n",
      "Q7: In the _______, the Nile divides into many streams.\n",
      "A: streams\n",
      "B: streams\n",
      "C: delta\n",
      "D: streams\n",
      "Correct Answer: C\n"
     ]
    }
   ],
   "source": [
    "text = \"\"\"\n",
    "The Greek historian knew what he was talking about. The Nile River fed Egyptian civilization for hundreds of years. The Longest River the Nile is 4,160 miles long—the world’s longest river. It begins near the equator in Africa and flows north to the Mediterranean Sea. In the south the Nile churns with cataracts. A cataract is a waterfall. Near the sea the Nile branches into a delta. A delta is an area near a river’s mouth where the water deposits fine soil called silt. In the delta, the Nile divides into many streams. The river is called the upper Nile in the south and the lower Nile in the north. For centuries, heavy rains in Ethiopia caused the Nile to flood every summer. The floods deposited rich soil along the Nile’s shores. This soil was fertile, which means it was good for growing crops. Unlike the Tigris and Euphrates, the Nile River flooded at the same time every year, so farmers could predict when to plant their crops.\n",
    "\"\"\"\n",
    "\n",
    "results = generate_mcqs(text, num_questions=7)\n",
    "\n",
    "\n",
    "for i, mcq in enumerate(results,start=1):\n",
    "    question_stem, answer_choices, correct_answer = mcq\n",
    "    \n",
    "    print(f\"Q{i}: {question_stem}\")\n",
    "    for j, choice  in enumerate(answer_choices, start=1):\n",
    "        print(f\"{chr(64+j)}: {choice}\")\n",
    "    print(f\"Correct Answer: {correct_answer}\")"
   ]
  },
  {
   "cell_type": "markdown",
   "id": "fd285c0c-ba17-4110-8386-2ca5b74d5dd8",
   "metadata": {},
   "source": [
    "Sample Example"
   ]
  },
  {
   "cell_type": "code",
   "execution_count": 129,
   "id": "429f264e-3c3e-446d-a03d-55191071a425",
   "metadata": {},
   "outputs": [],
   "source": [
    "text = \"The Greek historian knew what he was talking about. He wrote many books on ancient civilizations.\"\n",
    "num_questions = 5  # Number of MCQs to generate"
   ]
  },
  {
   "cell_type": "code",
   "execution_count": 133,
   "id": "77b9a6f7-8051-4923-a391-ce9a3cdb5374",
   "metadata": {},
   "outputs": [
    {
     "data": {
      "text/plain": [
       "The Greek historian knew what he was talking about. He wrote many books on ancient civilizations."
      ]
     },
     "execution_count": 133,
     "metadata": {},
     "output_type": "execute_result"
    }
   ],
   "source": [
    "doc = nlp(text)\n",
    "doc"
   ]
  },
  {
   "cell_type": "code",
   "execution_count": 137,
   "id": "942ed3f5-2d58-403e-812b-5a18770b7f90",
   "metadata": {},
   "outputs": [],
   "source": [
    "sentences = [sent.text for sent in doc.sents]"
   ]
  },
  {
   "cell_type": "code",
   "execution_count": 139,
   "id": "bb67fa63-002a-442a-a715-170e93919269",
   "metadata": {},
   "outputs": [
    {
     "data": {
      "text/plain": [
       "['The Greek historian knew what he was talking about.',\n",
       " 'He wrote many books on ancient civilizations.']"
      ]
     },
     "execution_count": 139,
     "metadata": {},
     "output_type": "execute_result"
    }
   ],
   "source": [
    "sentences"
   ]
  },
  {
   "cell_type": "code",
   "execution_count": 141,
   "id": "043b6be1-b4a4-485d-bab7-d67b5cbdb4e2",
   "metadata": {},
   "outputs": [],
   "source": [
    "selected_sentences = random.sample(sentences, min(num_questions, len(sentences)))"
   ]
  },
  {
   "cell_type": "code",
   "execution_count": 143,
   "id": "aa9ba0cf-7acd-47e9-ad3f-96b4b05d8208",
   "metadata": {},
   "outputs": [
    {
     "data": {
      "text/plain": [
       "['He wrote many books on ancient civilizations.',\n",
       " 'The Greek historian knew what he was talking about.']"
      ]
     },
     "execution_count": 143,
     "metadata": {},
     "output_type": "execute_result"
    }
   ],
   "source": [
    "selected_sentences"
   ]
  },
  {
   "cell_type": "code",
   "execution_count": 145,
   "id": "3198dbfa-f7cf-4484-8c47-16adf70248bc",
   "metadata": {},
   "outputs": [],
   "source": [
    "mcqs = []\n",
    "ent_doc = nlp(\"The Greek historian knew what he was talking about.\")\n"
   ]
  },
  {
   "cell_type": "code",
   "execution_count": 147,
   "id": "8b110451-9049-4ec1-9759-832086c6e99d",
   "metadata": {},
   "outputs": [],
   "source": [
    "nouns = [token.text for token in ent_doc if token.pos_ == \"NOUN\"]"
   ]
  },
  {
   "cell_type": "code",
   "execution_count": 149,
   "id": "e66b84b4-0771-46a6-8e4c-d0dafa04dd09",
   "metadata": {},
   "outputs": [
    {
     "data": {
      "text/plain": [
       "['historian']"
      ]
     },
     "execution_count": 149,
     "metadata": {},
     "output_type": "execute_result"
    }
   ],
   "source": [
    "nouns"
   ]
  },
  {
   "cell_type": "code",
   "execution_count": 151,
   "id": "bbb9bda3-68c6-4f63-8d86-83250e75cfb8",
   "metadata": {},
   "outputs": [],
   "source": [
    "ent_doc = nlp(\"He wrote many books on ancient civilizations.\")\n",
    "nouns = [token.text for token in ent_doc if token.pos_ == \"NOUN\"]"
   ]
  },
  {
   "cell_type": "code",
   "execution_count": 153,
   "id": "ceb8afbb-2c62-4772-a3e3-2d6fc45a1ef1",
   "metadata": {},
   "outputs": [
    {
     "data": {
      "text/plain": [
       "['books', 'civilizations']"
      ]
     },
     "execution_count": 153,
     "metadata": {},
     "output_type": "execute_result"
    }
   ],
   "source": [
    "nouns"
   ]
  },
  {
   "cell_type": "code",
   "execution_count": 159,
   "id": "69df414a-3e1f-485a-9274-56e6d3ae4e1d",
   "metadata": {},
   "outputs": [],
   "source": [
    "noun_counts = Counter(nouns)"
   ]
  },
  {
   "cell_type": "code",
   "execution_count": 204,
   "id": "4b3882d6-295b-47d1-9474-f01f7a2360c6",
   "metadata": {},
   "outputs": [
    {
     "data": {
      "text/plain": [
       "Counter({'books': 1, 'civilizations': 1})"
      ]
     },
     "execution_count": 204,
     "metadata": {},
     "output_type": "execute_result"
    }
   ],
   "source": [
    "noun_counts"
   ]
  },
  {
   "cell_type": "code",
   "execution_count": 195,
   "id": "d5176e1d-ce70-444f-83f5-1070e3ac62a9",
   "metadata": {},
   "outputs": [],
   "source": [
    "subject = noun_counts.most_common(1)[0][0]"
   ]
  },
  {
   "cell_type": "code",
   "execution_count": 197,
   "id": "101618fa-95e3-4081-a2dc-fe702885665c",
   "metadata": {},
   "outputs": [
    {
     "data": {
      "text/plain": [
       "'books'"
      ]
     },
     "execution_count": 197,
     "metadata": {},
     "output_type": "execute_result"
    }
   ],
   "source": [
    "subject"
   ]
  },
  {
   "cell_type": "code",
   "execution_count": 206,
   "id": "1bbcb4f2-95b1-44f6-bf20-7cb6805c6a60",
   "metadata": {},
   "outputs": [],
   "source": [
    "question_stem = \"He wrote many books on ancient civilizations.\".replace(\"books\", \"_______\")"
   ]
  },
  {
   "cell_type": "code",
   "execution_count": 208,
   "id": "e8a6f0e6-8056-401e-90d6-038d5f9fe377",
   "metadata": {},
   "outputs": [
    {
     "data": {
      "text/plain": [
       "'He wrote many _______ on ancient civilizations.'"
      ]
     },
     "execution_count": 208,
     "metadata": {},
     "output_type": "execute_result"
    }
   ],
   "source": [
    "question_stem"
   ]
  },
  {
   "cell_type": "code",
   "execution_count": 210,
   "id": "1615a110-e830-4490-834a-861dba38a58b",
   "metadata": {},
   "outputs": [],
   "source": [
    "answer_choices = [\"books\"]"
   ]
  },
  {
   "cell_type": "code",
   "execution_count": 212,
   "id": "dfe069d6-7475-436d-b08b-b3f34355c730",
   "metadata": {},
   "outputs": [
    {
     "data": {
      "text/plain": [
       "['books']"
      ]
     },
     "execution_count": 212,
     "metadata": {},
     "output_type": "execute_result"
    }
   ],
   "source": [
    "answer_choices"
   ]
  },
  {
   "cell_type": "code",
   "execution_count": 219,
   "id": "1ad17006-c157-4e9f-8116-2672a6f139fd",
   "metadata": {},
   "outputs": [],
   "source": [
    "distractor = random.choice(list(set(nouns) - set([subject])))\n",
    "answer_choices.append(distractor)"
   ]
  },
  {
   "cell_type": "code",
   "execution_count": 241,
   "id": "9e4a8d96-ee11-42e0-a69d-5c1e89c662e3",
   "metadata": {},
   "outputs": [],
   "source": [
    "answer_choices = [\"books\", \"civilizations\"]"
   ]
  },
  {
   "cell_type": "code",
   "execution_count": 227,
   "id": "4a052a9b-6959-4657-ad1e-69bd9fada780",
   "metadata": {},
   "outputs": [],
   "source": [
    "random.shuffle(answer_choices)"
   ]
  },
  {
   "cell_type": "code",
   "execution_count": 233,
   "id": "eb4618c0-6358-4506-ae6d-d1beb236c0c2",
   "metadata": {},
   "outputs": [],
   "source": [
    "correct_answer = chr(64 + answer_choices.index(\"books\") + 1)"
   ]
  },
  {
   "cell_type": "code",
   "execution_count": 235,
   "id": "d16ae6d7-60d2-4666-b3bb-c99fb2499503",
   "metadata": {},
   "outputs": [],
   "source": [
    "mcqs.append((question_stem, answer_choices, correct_answer))"
   ]
  },
  {
   "cell_type": "code",
   "execution_count": 239,
   "id": "799275f1-5d4b-4be5-8b24-f89ce3882712",
   "metadata": {},
   "outputs": [
    {
     "data": {
      "text/plain": [
       "[('He wrote many _______ on ancient civilizations.',\n",
       "  ['civilizations', 'books'],\n",
       "  'B')]"
      ]
     },
     "execution_count": 239,
     "metadata": {},
     "output_type": "execute_result"
    }
   ],
   "source": [
    "mcqs"
   ]
  },
  {
   "cell_type": "code",
   "execution_count": null,
   "id": "3ba2f76b-1521-40a7-a800-761b03d61325",
   "metadata": {},
   "outputs": [],
   "source": []
  }
 ],
 "metadata": {
  "kernelspec": {
   "display_name": "Python 3 (ipykernel)",
   "language": "python",
   "name": "python3"
  },
  "language_info": {
   "codemirror_mode": {
    "name": "ipython",
    "version": 3
   },
   "file_extension": ".py",
   "mimetype": "text/x-python",
   "name": "python",
   "nbconvert_exporter": "python",
   "pygments_lexer": "ipython3",
   "version": "3.12.3"
  }
 },
 "nbformat": 4,
 "nbformat_minor": 5
}
